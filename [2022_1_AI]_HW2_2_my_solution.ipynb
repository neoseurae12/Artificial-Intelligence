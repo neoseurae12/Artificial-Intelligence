{
  "nbformat": 4,
  "nbformat_minor": 0,
  "metadata": {
    "colab": {
      "name": "HW2-2.ipynb",
      "provenance": []
    },
    "kernelspec": {
      "name": "python3",
      "display_name": "Python 3"
    },
    "language_info": {
      "name": "python"
    },
    "accelerator": "GPU"
  },
  "cells": [
    {
      "cell_type": "code",
      "execution_count": 3,
      "metadata": {
        "id": "fhIcESltMHhl"
      },
      "outputs": [],
      "source": [
        "# ⓞ\n",
        "import numpy as np\n",
        "import tensorflow as tf\n",
        "import matplotlib.pyplot as plt"
      ]
    },
    {
      "cell_type": "code",
      "source": [
        "# ④ CIFAR-10 dataset\n",
        "from keras.datasets import cifar10\n",
        "(X_train, Y_train), (X_test, Y_test) = cifar10.load_data()"
      ],
      "metadata": {
        "id": "0cydxRa7Umku",
        "colab": {
          "base_uri": "https://localhost:8080/"
        },
        "outputId": "20d841aa-9e6b-4e1d-e954-69a89a18c08c"
      },
      "execution_count": 4,
      "outputs": [
        {
          "output_type": "stream",
          "name": "stdout",
          "text": [
            "Downloading data from https://www.cs.toronto.edu/~kriz/cifar-10-python.tar.gz\n",
            "170500096/170498071 [==============================] - 13s 0us/step\n",
            "170508288/170498071 [==============================] - 13s 0us/step\n"
          ]
        }
      ]
    },
    {
      "cell_type": "code",
      "source": [
        "plt.imshow(X_train[153])"
      ],
      "metadata": {
        "colab": {
          "base_uri": "https://localhost:8080/",
          "height": 284
        },
        "id": "Ma8pwkxWcT3S",
        "outputId": "d2b8f9d6-7ef7-471c-ef1f-6129e7e724c6"
      },
      "execution_count": 5,
      "outputs": [
        {
          "output_type": "execute_result",
          "data": {
            "text/plain": [
              "<matplotlib.image.AxesImage at 0x7f35b9a4a4d0>"
            ]
          },
          "metadata": {},
          "execution_count": 5
        },
        {
          "output_type": "display_data",
          "data": {
            "text/plain": [
              "<Figure size 432x288 with 1 Axes>"
            ],
            "image/png": "[encoded data removed]"
          },
          "metadata": {
            "needs_background": "light"
          }
        }
      ]
    },
    {
      "cell_type": "code",
      "source": [
        "# ⑤ Preprocessing\n",
        "X_train = X_train.astype('float32')\n",
        "X_test = X_test.astype('float32')\n",
        "X_train /= 255.0\n",
        "X_test /= 255.0"
      ],
      "metadata": {
        "id": "UNIeI5nuU3Ht"
      },
      "execution_count": 6,
      "outputs": []
    },
    {
      "cell_type": "code",
      "source": [
        "# ⑥ Validation Set 만들기\n",
        "from sklearn.model_selection import train_test_split\n",
        "\n",
        "X_train, X_val, Y_train, Y_val = train_test_split(X_train, Y_train, \\\n",
        "                                                  test_size = 0.2, shuffle = True)"
      ],
      "metadata": {
        "id": "cAIsZTzFU799"
      },
      "execution_count": 7,
      "outputs": []
    },
    {
      "cell_type": "code",
      "source": [
        "# 정칙화 기법 中 'Data Augmentation' 적용한 경우 ↓\n",
        "from keras.preprocessing.image import ImageDataGenerator\n",
        "aug = ImageDataGenerator(horizontal_flip=True, width_shift_range=0.05,\n",
        "                             height_shift_range=0.05)\n",
        "aug.fit(X_train)"
      ],
      "metadata": {
        "id": "CTLtbBbvzpXf"
      },
      "execution_count": 8,
      "outputs": []
    },
    {
      "cell_type": "code",
      "source": [
        "# ⑦ Y : 0~9의 값 \"하나\" -> OneHot vector로 만들어주기\n",
        "from sklearn.preprocessing import OneHotEncoder\n",
        "\n",
        "encoder = OneHotEncoder()\n",
        "encoder.fit(Y_train)\n",
        "Y_train = encoder.transform(Y_train).toarray()\n",
        "Y_test = encoder.transform(Y_test).toarray()\n",
        "Y_val =  encoder.transform(Y_val).toarray()"
      ],
      "metadata": {
        "id": "XaHTWZSTVN0v"
      },
      "execution_count": 9,
      "outputs": []
    },
    {
      "cell_type": "code",
      "source": [
        "# ① MobileNet block 구현\n",
        "class MobileNet_Block(tf.keras.Model):\n",
        "  def __init__(self, filters, strides):\n",
        "    super(MobileNet_Block, self).__init__(name='')\n",
        "\n",
        "    self.conv_dw = tf.keras.layers.DepthwiseConv2D(kernel_size = 3, strides = strides, padding = 'same')\n",
        "    self.bn1 = tf.keras.layers.BatchNormalization()\n",
        "    self.act1 = tf.keras.layers.Activation('relu')\n",
        "\n",
        "    self.conv = tf.keras.layers.Conv2D(filters = filters, kernel_size = 1, strides = 1, padding = 'same')\n",
        "    self.bn2 = tf.keras.layers.BatchNormalization()\n",
        "    self.act2 = tf.keras.layers.Activation('relu')\n",
        "\n",
        "    '''\n",
        "    self.downsample = downsample\n",
        "    if self.downsample:\n",
        "      self.ds = tf.keras.layers.Conv2D(filters, strides=2, kernel_size=(1,1), padding='same')\n",
        "      self.dsbn = tf.keras.layers.BatchNormalization()\n",
        "    '''\n",
        "\n",
        "  def call(self, inputs):\n",
        "    '''\n",
        "    ds = inputs\n",
        "    if self.downsample: # 만약 downsample이면\n",
        "      ds = self.ds(inputs)  # downsampling layer를 거친다\n",
        "      ds = self.dsbn(ds)\n",
        "    '''\n",
        "\n",
        "    x = self.conv_dw(inputs)\n",
        "    x = self.bn1(x)\n",
        "    x = self.act1(x)\n",
        "\n",
        "    x = self.conv(x)\n",
        "    x = self.bn2(x)\n",
        "    out = self.act2(x)\n",
        "\n",
        "    return out"
      ],
      "metadata": {
        "id": "AxYc04MBMLY-"
      },
      "execution_count": 10,
      "outputs": []
    },
    {
      "cell_type": "code",
      "source": [
        "class MobileNet(tf.keras.Model):\n",
        "  def __init__(self, num_classes):\n",
        "    super(MobileNet, self).__init__()\n",
        "\n",
        "    # stem layer\n",
        "    self.conv1 = tf.keras.layers.Conv2D(filters = 32, kernel_size = (3, 3), strides = 2, padding='same')\n",
        "    self.bn1 = tf.keras.layers.BatchNormalization()\n",
        "    self.act1 = tf.keras.layers.Activation('relu')\n",
        "\n",
        "    # main layers\n",
        "    self.conv2 = MobileNet_Block(filters = 64, strides = 1)\n",
        "    self.conv3 = MobileNet_Block(filters = 128, strides = 2)\n",
        "    self.conv4 = MobileNet_Block(filters = 128, strides = 1)\n",
        "    self.conv5 = MobileNet_Block(filters = 256, strides = 2)\n",
        "    self.conv6 = MobileNet_Block(filters = 256, strides = 1)\n",
        "\n",
        "    self.avg_pool = tf.keras.layers.GlobalAveragePooling2D()\n",
        "    self.flat = tf.keras.layers.Flatten()\n",
        "    self.dropout = tf.keras.layers.Dropout(0.5)\n",
        "    self.fc = tf.keras.layers.Dense(units=num_classes, activation='softmax')\n",
        "\n",
        "  def call(self, inputs):\n",
        "    x = self.conv1(inputs)\n",
        "    x = self.bn1(x) # 실습 강의에서는 bn은 생략함\n",
        "    x = self.act1(x)\n",
        "    \n",
        "    for mbblock in [self.conv2, self.conv3, self.conv4, self.conv5, self.conv6]:\n",
        "      x = mbblock(x)\n",
        "\n",
        "    x = self.avg_pool(x)\n",
        "    x = self.flat(x)\n",
        "    x = self.dropout(x)\n",
        "    out = self.fc(x)\n",
        "\n",
        "    return out"
      ],
      "metadata": {
        "id": "FI8-98d0SXGW"
      },
      "execution_count": 11,
      "outputs": []
    },
    {
      "cell_type": "code",
      "source": [
        "# ③ 모델 컴파일\n",
        "\n",
        "model = MobileNet(10)\n",
        "model.compile(optimizer='adam', loss='categorical_crossentropy', metrics=['accuracy'])"
      ],
      "metadata": {
        "id": "BcPsH53aUeDa"
      },
      "execution_count": 12,
      "outputs": []
    },
    {
      "cell_type": "code",
      "source": [
        "# ⑨ fit\n",
        "#model.fit(X_train, Y_train, batch_size = 256, epochs = 10, \\\n",
        "#          validation_data = (X_val, Y_val))\n",
        "history = model.fit(aug.flow(X_train,Y_train,batch_size = 256), batch_size=256, epochs=10, validation_data=(X_val, Y_val))"
      ],
      "metadata": {
        "colab": {
          "base_uri": "https://localhost:8080/"
        },
        "id": "V6dzDFb4VZJ6",
        "outputId": "c019e93d-78ee-4c64-9fa8-b672d343e56c"
      },
      "execution_count": 13,
      "outputs": [
        {
          "output_type": "stream",
          "name": "stdout",
          "text": [
            "Epoch 1/10\n",
            "157/157 [==============================] - 22s 117ms/step - loss: 1.7809 - accuracy: 0.3407 - val_loss: 2.4495 - val_accuracy: 0.0960\n",
            "Epoch 2/10\n",
            "157/157 [==============================] - 17s 106ms/step - loss: 1.4221 - accuracy: 0.4777 - val_loss: 2.6677 - val_accuracy: 0.0960\n",
            "Epoch 3/10\n",
            "157/157 [==============================] - 16s 100ms/step - loss: 1.2590 - accuracy: 0.5455 - val_loss: 3.2858 - val_accuracy: 0.1125\n",
            "Epoch 4/10\n",
            "157/157 [==============================] - 16s 100ms/step - loss: 1.1557 - accuracy: 0.5826 - val_loss: 1.2609 - val_accuracy: 0.5449\n",
            "Epoch 5/10\n",
            "157/157 [==============================] - 16s 99ms/step - loss: 1.0819 - accuracy: 0.6133 - val_loss: 1.2479 - val_accuracy: 0.5597\n",
            "Epoch 6/10\n",
            "157/157 [==============================] - 17s 106ms/step - loss: 1.0215 - accuracy: 0.6351 - val_loss: 1.2008 - val_accuracy: 0.5836\n",
            "Epoch 7/10\n",
            "157/157 [==============================] - 16s 101ms/step - loss: 0.9628 - accuracy: 0.6596 - val_loss: 1.1152 - val_accuracy: 0.6167\n",
            "Epoch 8/10\n",
            "157/157 [==============================] - 16s 102ms/step - loss: 0.9152 - accuracy: 0.6754 - val_loss: 1.1351 - val_accuracy: 0.6192\n",
            "Epoch 9/10\n",
            "157/157 [==============================] - 16s 101ms/step - loss: 0.8793 - accuracy: 0.6877 - val_loss: 1.0104 - val_accuracy: 0.6500\n",
            "Epoch 10/10\n",
            "157/157 [==============================] - 16s 101ms/step - loss: 0.8373 - accuracy: 0.7032 - val_loss: 1.0898 - val_accuracy: 0.6282\n"
          ]
        }
      ]
    },
    {
      "cell_type": "code",
      "source": [
        "# ⑩ test해주기\n",
        "model.evaluate(X_test, Y_test)"
      ],
      "metadata": {
        "id": "2lLpoEJWVeMU",
        "colab": {
          "base_uri": "https://localhost:8080/"
        },
        "outputId": "23bf7f07-fdbf-4abd-da0a-d4ee9f0babad"
      },
      "execution_count": 14,
      "outputs": [
        {
          "output_type": "stream",
          "name": "stdout",
          "text": [
            "313/313 [==============================] - 1s 3ms/step - loss: 1.0946 - accuracy: 0.6291\n"
          ]
        },
        {
          "output_type": "execute_result",
          "data": {
            "text/plain": [
              "[1.0945653915405273, 0.6291000247001648]"
            ]
          },
          "metadata": {},
          "execution_count": 14
        }
      ]
    },
    {
      "cell_type": "code",
      "source": [
        "# ⑪ 모델 summary\n",
        "model.summary()"
      ],
      "metadata": {
        "id": "IxFE_kyIVhNd",
        "colab": {
          "base_uri": "https://localhost:8080/"
        },
        "outputId": "51028f86-4fc7-4d45-b584-12b979e403b1"
      },
      "execution_count": 15,
      "outputs": [
        {
          "output_type": "stream",
          "name": "stdout",
          "text": [
            "Model: \"mobile_net\"\n",
            "_________________________________________________________________\n",
            " Layer (type)                Output Shape              Param #   \n",
            "=================================================================\n",
            " conv2d (Conv2D)             multiple                  896       \n",
            "                                                                 \n",
            " batch_normalization (BatchN  multiple                 128       \n",
            " ormalization)                                                   \n",
            "                                                                 \n",
            " activation (Activation)     multiple                  0         \n",
            "                                                                 \n",
            "  (MobileNet_Block)          multiple                  2816      \n",
            "                                                                 \n",
            "  (MobileNet_Block)          multiple                  9728      \n",
            "                                                                 \n",
            "  (MobileNet_Block)          multiple                  18816     \n",
            "                                                                 \n",
            "  (MobileNet_Block)          multiple                  35840     \n",
            "                                                                 \n",
            "  (MobileNet_Block)          multiple                  70400     \n",
            "                                                                 \n",
            " global_average_pooling2d (G  multiple                 0         \n",
            " lobalAveragePooling2D)                                          \n",
            "                                                                 \n",
            " flatten (Flatten)           multiple                  0         \n",
            "                                                                 \n",
            " dropout (Dropout)           multiple                  0         \n",
            "                                                                 \n",
            " dense (Dense)               multiple                  2570      \n",
            "                                                                 \n",
            "=================================================================\n",
            "Total params: 141,194\n",
            "Trainable params: 138,250\n",
            "Non-trainable params: 2,944\n",
            "_________________________________________________________________\n"
          ]
        }
      ]
    },
    {
      "cell_type": "code",
      "source": [
        "loss_train = history.history['accuracy']\n",
        "loss_val = history.history['val_accuracy']\n",
        "epochs = range(1,11)\n",
        "plt.plot(epochs, loss_train, 'g', label='Training accuracy')\n",
        "plt.plot(epochs, loss_val, 'b', label='Validation accuracy')\n",
        "plt.title('Training and Validation accuracy')\n",
        "plt.xlabel('Epochs')\n",
        "plt.ylabel('Accuracy')\n",
        "plt.legend()\n",
        "plt.show()"
      ],
      "metadata": {
        "colab": {
          "base_uri": "https://localhost:8080/",
          "height": 295
        },
        "id": "X07v8D-X4W8W",
        "outputId": "a21c66d9-70dd-4cc4-bd6d-76b4edd405c7"
      },
      "execution_count": 17,
      "outputs": [
        {
          "output_type": "display_data",
          "data": {
            "text/plain": [
              "<Figure size 432x288 with 1 Axes>"
            ],
            "image/png": "[encoded data removed]"
          },
          "metadata": {
            "needs_background": "light"
          }
        }
      ]
    }
  ]
}